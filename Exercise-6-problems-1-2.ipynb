{
 "cells": [
  {
   "cell_type": "markdown",
   "metadata": {
    "deletable": true,
    "editable": true
   },
   "source": [
    "# Exercise 6\n",
    "\n",
    "This week we will practice how to work with OpenStreetMap data and conduct network analysis in Python.\n",
    "\n",
    "- Exercise 6 is due by Wed 19.12.\n",
    "\n",
    "- Don't forget to check out the [hints for this week's exercise](https://automating-gis-processes.github.io/2018/lessons/L6/exercise-6.html) if you're having trouble.\n",
    "\n",
    "- Scores on this exercise are out of 20 points."
   ]
  },
  {
   "cell_type": "markdown",
   "metadata": {
    "deletable": true,
    "editable": true,
    "nbgrader": {
     "grade": false,
     "grade_id": "cell-40f3565ed1f7dad8",
     "locked": true,
     "schema_version": 1,
     "solution": false
    }
   },
   "source": [
    "## Problem 1 (8 points)\n",
    "\n",
    "There are two csv-files in the [/data](./data) folder:\n",
    "\n",
    "- `origins.csv`\n",
    "- `destinations.csv`\n",
    "\n",
    "The files contain coordinates of the origin and destination points in certain area of the world. \n",
    "\n",
    "**1: Your task is to find out where the points are located based on the coordinates found in the files**\n",
    "- use your GIS skills to find out the solution, for example \n",
    "    - detect the location using geocoding techniques (see [hints](https://geopy.readthedocs.io/en/stable/index.html?highlight=reverse#module-geopy.geocoders))\n",
    "    - detect the location using [visualization techniques](https://automating-gis-processes.github.io/2018/lessons/L6/Exercise-6.html), and to plot the points on top of a background map. \n",
    "- Save the answer to a variable `area_of_interest` and print out the answer with command: `print(\"The points are located in: %s\" % area_of_interest)` (the correct answer is a city or a town somewhere in the world)."
   ]
  },
  {
   "cell_type": "code",
   "execution_count": null,
   "metadata": {
    "collapsed": false,
    "deletable": true,
    "editable": true,
    "nbgrader": {
     "grade": true,
     "grade_id": "area_of_interest",
     "locked": false,
     "points": 2,
     "schema_version": 1,
     "solution": true
    }
   },
   "outputs": [],
   "source": [
    "### BEGIN SOLUTION\n",
    "\n",
    "import pandas as pd\n",
    "import geopandas as gpd\n",
    "import mplleaflet\n",
    "from shapely.geometry import Point\n",
    "\n",
    "# Filepaths\n",
    "origs_fp = \"data/origins.csv\"\n",
    "dests_fp = \"data/destinations.csv\"\n",
    "\n",
    "# Read files\n",
    "origs = pd.read_csv(origs_fp)\n",
    "dests = pd.read_csv(dests_fp)\n",
    "\n",
    "# Create geometries\n",
    "origs['geometry'] = origs.apply(lambda row: Point(row['x'], row['y']), axis=1)\n",
    "dests['geometry'] = dests.apply(lambda row: Point(row['x'], row['y']), axis=1)\n",
    "\n",
    "# Make GeoDataFrames\n",
    "origs = gpd.GeoDataFrame(origs, geometry='geometry', crs={'init': 'epsg:4326'})\n",
    "dests = gpd.GeoDataFrame(dests, geometry='geometry', crs={'init': 'epsg:4326'})\n",
    "\n",
    "# Alternative 1: Use reverse Geocoding to find out the location\n",
    "# -------------------------------------------------------------\n",
    "\n",
    "# Reverse geocode first 5 rows\n",
    "origs_geocoded = gpd.tools.reverse_geocode(origs['geometry'].head(), provider='nominatim', user_agent = 'autogis_HT')\n",
    "dests_geocoded = gpd.tools.reverse_geocode(dests['geometry'].head(), provider='nominatim', user_agent = 'autogis_HT')\n",
    "\n",
    "# Check the results\n",
    "#print(origs_geocoded)\n",
    "#print(dests_geocoded)\n",
    "\n",
    "# Answer\n",
    "area_of_interest = \"Tallinn, Estonia\"\n",
    "\n",
    "# Alternative 2: Use visualization to check the locations\n",
    "combined = origs.append(dests)\n",
    "ax = combined.plot(color='red', markersize=10)\n",
    "mplleaflet.display(fig=ax.figure, crs=combined.crs)\n",
    "\n",
    "### END SOLUTION"
   ]
  },
  {
   "cell_type": "markdown",
   "metadata": {
    "deletable": true,
    "editable": true,
    "nbgrader": {
     "grade": false,
     "grade_id": "cell-5f8e9329f6654711",
     "locked": true,
     "schema_version": 1,
     "solution": false
    }
   },
   "source": [
    "**2: Retrieve OpenStreetMap data (only streets that can be driven with car) from the area where the points are located.**\n",
    "\n",
    "- You should use a Polygon specifying the extent where all the points are located to fetch the data with `.graph_from_polygon()` function \n",
    "- see [docs](https://osmnx.readthedocs.io/en/stable/osmnx.html#osmnx.core.graph_from_polygon))."
   ]
  },
  {
   "cell_type": "code",
   "execution_count": null,
   "metadata": {
    "collapsed": true,
    "deletable": true,
    "editable": true,
    "nbgrader": {
     "grade": true,
     "grade_id": "retrieve-osm-data",
     "locked": false,
     "points": 2,
     "schema_version": 1,
     "solution": true
    }
   },
   "outputs": [],
   "source": [
    "### BEGIN SOLUTION\n",
    "import osmnx  as ox\n",
    "\n",
    "# Retrieve the drivable roads from Tallinn using the bounding box\n",
    "# ---------------------------------------------------------------\n",
    "\n",
    "# Alternative 1: Use bounding box Polygon\n",
    "\n",
    "# Merge all points together\n",
    "combined = origs.append(dests)\n",
    "\n",
    "# Calculate the convex hull\n",
    "hull = combined.unary_union.convex_hull\n",
    "\n",
    "# Fetch the graph using the Polygon\n",
    "graph = ox.graph_from_polygon(hull)\n",
    "\n",
    "# Alternative 2 (should not be used but as an example): Using place name - You should check from https://nominatim.openstreetmap.org that the name you look for is area type\n",
    "#graph2 = ox.graph_from_place(\"Tallinn, Kesklinna linnaosa, Tallinn, Harju maakond, Estonia\", network_type=\"drive\")\n",
    "\n",
    "### END SOLUTION"
   ]
  },
  {
   "cell_type": "markdown",
   "metadata": {
    "deletable": true,
    "editable": true,
    "nbgrader": {
     "grade": false,
     "grade_id": "cell-9b073bb7932a26ab",
     "locked": true,
     "schema_version": 1,
     "solution": false
    }
   },
   "source": [
    "**3: Reproject the data into UTM projection, and plot:**\n",
    "  - the street network (with `gray` color and line width of `0.5` and alpha set to `0.7`)\n",
    "  - the origin points (with `red` color)\n",
    "  - destination points (with `blue` color)\n",
    "  \n",
    "In the end you should end up having a map that looks something like following:\n",
    "\n",
    "![](img/route_network_with_OD_points.png)"
   ]
  },
  {
   "cell_type": "code",
   "execution_count": null,
   "metadata": {
    "collapsed": false,
    "deletable": true,
    "editable": true,
    "nbgrader": {
     "grade": true,
     "grade_id": "visualize-graph-and-OD-points",
     "locked": false,
     "points": 4,
     "schema_version": 1,
     "solution": true
    }
   },
   "outputs": [],
   "source": [
    "### BEGIN SOLUTION\n",
    "\n",
    "# Reproject the graph\n",
    "graph_proj = ox.project_graph(graph)\n",
    "\n",
    "# Get the GeoDataFrame\n",
    "edges = ox.graph_to_gdfs(graph_proj, nodes=False)\n",
    "\n",
    "# Get CRS info\n",
    "CRS = edges.crs\n",
    "\n",
    "# Reproject all data\n",
    "origs = origs.to_crs(crs=CRS)\n",
    "dests = dests.to_crs(crs=CRS)\n",
    "\n",
    "# Plot\n",
    "ax = edges.plot(color='gray', linewidth=0.5, alpha=0.7)\n",
    "ax = origs.plot(ax=ax, color='red')\n",
    "ax = dests.plot(ax=ax, color='blue')\n",
    "\n",
    "### END SOLUTION"
   ]
  },
  {
   "cell_type": "markdown",
   "metadata": {
    "deletable": true,
    "editable": true
   },
   "source": [
    "### Done!\n",
    "\n",
    "That's it! Now you can continue with problem 2. "
   ]
  },
  {
   "cell_type": "markdown",
   "metadata": {
    "deletable": true,
    "editable": true,
    "nbgrader": {
     "grade": false,
     "grade_id": "cell-20712c995ba6bbcf",
     "locked": true,
     "schema_version": 1,
     "solution": false
    }
   },
   "source": [
    "## Problem 2 (12 points)\n",
    "\n",
    "In this problem we practice conducting shortest path routing.\n",
    "\n",
    "### Steps\n",
    "\n",
    "**1: Calculate the shortest paths between all origin points (16) and destination points (20) using the `distance` of the road segments as the impedance measure (in total 320 routes).** \n",
    "\n",
    "- To be able to find the shortest paths, you should find the nearest nodes from the graph for both origin and destination points. \n",
    "- Notice: if the closest node is the same for both origin and destination point, you should skip the shortest path calculation. - After the routing, you should add the shortest path routes as LineString geometries into a GeoDataFrame called `routes`. \n",
    "- You should use the projected graph as the network for the analyses"
   ]
  },
  {
   "cell_type": "code",
   "execution_count": null,
   "metadata": {
    "collapsed": true,
    "deletable": true,
    "editable": true,
    "nbgrader": {
     "grade": true,
     "grade_id": "shortest-paths",
     "locked": false,
     "points": 8,
     "schema_version": 1,
     "solution": true
    }
   },
   "outputs": [],
   "source": [
    "### BEGIN SOLUTION\n",
    "import networkx as nx\n",
    "from shapely.geometry import LineString\n",
    "\n",
    "# Create a GeoDataFrame for the results\n",
    "routes = gpd.GeoDataFrame()\n",
    "\n",
    "# Get nodes from the graph\n",
    "nodes = ox.graph_to_gdfs(graph_proj, edges=False)\n",
    "\n",
    "# Iterate over origins and destinations\n",
    "for oidx, origin in origs.iterrows():\n",
    "    \n",
    "    # Find closest node from the graph --> point = (latitude, longitude)\n",
    "    closest_origin_node = ox.get_nearest_node(G=graph_proj, point=(origin.geometry.y, origin.geometry.x), method='euclidean')\n",
    "    \n",
    "    # Iterate over targets\n",
    "    for tidx, target in dests.iterrows():\n",
    "        # Find closest node from the graph --> point = (latitude, longitude)\n",
    "        closest_target_node = ox.get_nearest_node(graph_proj, point=(target.geometry.y, target.geometry.x), method='euclidean')\n",
    "        \n",
    "        # Check if origin and target nodes are the same --> if they are --> skip\n",
    "        if closest_origin_node == closest_target_node:\n",
    "            print(\"Same origin and destination node. Skipping ..\")\n",
    "            continue\n",
    "            \n",
    "        # Find the shortest path between the points\n",
    "        route = nx.shortest_path(graph_proj, \n",
    "                                 source=closest_origin_node, \n",
    "                                 target=closest_target_node, weight='length')\n",
    "        \n",
    "        # Extract the nodes of the route\n",
    "        route_nodes = nodes.loc[route]\n",
    "        \n",
    "        # Create a LineString out of the route\n",
    "        path = LineString(list(route_nodes.geometry.values))\n",
    "        \n",
    "        # Append the result into the GeoDataFrame\n",
    "        routes = routes.append([[path]], ignore_index=True)\n",
    "\n",
    "# Add a column name\n",
    "routes.columns = ['geometry']\n",
    "\n",
    "# Set coordinate reference system\n",
    "routes.crs = nodes.crs\n",
    "\n",
    "# Set geometry\n",
    "routes = routes.set_geometry('geometry')\n",
    "        \n",
    "### END SOLUTION"
   ]
  },
  {
   "cell_type": "markdown",
   "metadata": {
    "deletable": true,
    "editable": true,
    "nbgrader": {
     "grade": false,
     "grade_id": "cell-3663d3a6be76155f",
     "locked": true,
     "schema_version": 1,
     "solution": false
    }
   },
   "source": [
    "**2: Calculate the distance of the routes in meters into a column called `route_dist`.**\n",
    " "
   ]
  },
  {
   "cell_type": "code",
   "execution_count": null,
   "metadata": {
    "collapsed": true,
    "deletable": true,
    "editable": true,
    "nbgrader": {
     "grade": true,
     "grade_id": "cell-b5041bfdc3128548",
     "locked": false,
     "points": 1,
     "schema_version": 1,
     "solution": true
    }
   },
   "outputs": [],
   "source": [
    "### BEGIN SOLUTION\n",
    "\n",
    "# Calculate the distance\n",
    "routes['route_dist'] = routes.length\n",
    "\n",
    "### END SOLUTION"
   ]
  },
  {
   "cell_type": "markdown",
   "metadata": {
    "deletable": true,
    "editable": true,
    "nbgrader": {
     "grade": false,
     "grade_id": "cell-490f1e8c63b167d4",
     "locked": true,
     "schema_version": 1,
     "solution": false
    }
   },
   "source": [
    "**3: Plot all the routes on top of the street network.** \n",
    "\n",
    "In the end you should have something like following:\n",
    " \n",
    " ![](img/routings.png)"
   ]
  },
  {
   "cell_type": "code",
   "execution_count": null,
   "metadata": {
    "collapsed": false,
    "deletable": true,
    "editable": true,
    "nbgrader": {
     "grade": true,
     "grade_id": "plot-optimal-routes",
     "locked": false,
     "points": 2,
     "schema_version": 1,
     "solution": true
    }
   },
   "outputs": [],
   "source": [
    "### BEGIN SOLUTION\n",
    "\n",
    "# Plot network and the routes\n",
    "ax = edges.plot(color='gray', linewidth=0.5)\n",
    "ax = routes.plot(ax=ax, color='red', linewidth=0.8, alpha=0.6)\n",
    "\n",
    "### END SOLUTION"
   ]
  },
  {
   "cell_type": "markdown",
   "metadata": {
    "deletable": true,
    "editable": true,
    "nbgrader": {
     "grade": false,
     "grade_id": "cell-e6354106b1da73f5",
     "locked": true,
     "schema_version": 1,
     "solution": false
    }
   },
   "source": [
    "**4: Calculate the total distance of all the routes (i.e. sum of all route distances) and print the answer to the screen in kilometers.** "
   ]
  },
  {
   "cell_type": "code",
   "execution_count": null,
   "metadata": {
    "collapsed": false,
    "deletable": true,
    "editable": true,
    "nbgrader": {
     "grade": true,
     "grade_id": "calculate-total-route-distance",
     "locked": false,
     "points": 1,
     "schema_version": 1,
     "solution": true
    }
   },
   "outputs": [],
   "source": [
    "### BEGIN SOLUTION\n",
    "\n",
    "# Calculate total distance \n",
    "tot_dist = routes['route_dist'].sum()\n",
    "print(\"Total distance of all routes is: %.0f kilometers\" % (tot_dist / 1000))\n",
    "### END SOLUTION"
   ]
  },
  {
   "cell_type": "markdown",
   "metadata": {
    "deletable": true,
    "editable": true,
    "nbgrader": {
     "grade": false,
     "grade_id": "cell-c041243bd4421c06",
     "locked": true,
     "schema_version": 1,
     "solution": false
    }
   },
   "source": [
    "### Done!\n",
    "\n",
    "That's it! Now you have finished all the practical exercises of the course (except final assignment), congratulations! :)"
   ]
  }
 ],
 "metadata": {
  "anaconda-cloud": {},
  "celltoolbar": "Create Assignment",
  "kernelspec": {
   "display_name": "Python [default]",
   "language": "python",
   "name": "python3"
  },
  "language_info": {
   "codemirror_mode": {
    "name": "ipython",
    "version": 3
   },
   "file_extension": ".py",
   "mimetype": "text/x-python",
   "name": "python",
   "nbconvert_exporter": "python",
   "pygments_lexer": "ipython3",
   "version": "3.5.2"
  }
 },
 "nbformat": 4,
 "nbformat_minor": 2
}
