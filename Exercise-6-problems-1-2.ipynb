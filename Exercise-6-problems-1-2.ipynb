{
 "cells": [
  {
   "cell_type": "markdown",
   "metadata": {},
   "source": [
    "# Exercise 6\n",
    "\n",
    "This week we will practice how to work with OpenStreetMap data and conduct network analysis in Python.\n",
    "\n",
    "- Exercise 6 is due by Wed 19.12.\n",
    "\n",
    "- Don't forget to check out the [hints for this week's exercise](https://automating-gis-processes.github.io/2018/lessons/L6/exercise-6.html) if you're having trouble.\n",
    "\n",
    "- Scores on this exercise are out of 20 points."
   ]
  },
  {
   "cell_type": "markdown",
   "metadata": {
    "deletable": false,
    "editable": false,
    "nbgrader": {
     "checksum": "97dd5ee2f7217e701561912b7e813e19",
     "grade": false,
     "grade_id": "cell-40f3565ed1f7dad8",
     "locked": true,
     "schema_version": 1,
     "solution": false
    }
   },
   "source": [
    "## Problem 1 (8 points)\n",
    "\n",
    "There are two csv-files in the [/data](./data) folder:\n",
    "\n",
    "- `origins.csv`\n",
    "- `destinations.csv`\n",
    "\n",
    "The files contain coordinates of the origin and destination points in certain area of the world. \n",
    "\n",
    "**1: Your task is to find out where the points are located based on the coordinates found in the files**\n",
    "- use your GIS skills to find out the solution, for example \n",
    "    - detect the location using geocoding techniques (see [hints](https://geopy.readthedocs.io/en/stable/index.html?highlight=reverse#module-geopy.geocoders))\n",
    "    - detect the location using [visualization techniques](https://automating-gis-processes.github.io/2018/lessons/L6/Exercise-6.html), and to plot the points on top of a background map. \n",
    "- Save the answer to a variable `area_of_interest` and print out the answer with command: `print(\"The points are located in: %s\" % area_of_interest)` (the correct answer is a city or a town somewhere in the world)."
   ]
  },
  {
   "cell_type": "code",
   "execution_count": null,
   "metadata": {
    "deletable": false,
    "nbgrader": {
     "checksum": "8cea317bf9bc122d5b8846ee7f06d786",
     "grade": true,
     "grade_id": "area_of_interest",
     "locked": false,
     "points": 2,
     "schema_version": 1,
     "solution": true
    }
   },
   "outputs": [],
   "source": [
    "# REPLACE THE ERROR BELOW WITH YOUR OWN CODE\n",
    "raise NotImplementedError()"
   ]
  },
  {
   "cell_type": "markdown",
   "metadata": {
    "deletable": false,
    "editable": false,
    "nbgrader": {
     "checksum": "1023db8bbaa60a6cbabef6d521872a13",
     "grade": false,
     "grade_id": "cell-5f8e9329f6654711",
     "locked": true,
     "schema_version": 1,
     "solution": false
    }
   },
   "source": [
    "**2: Retrieve OpenStreetMap data (only streets that can be driven with car) from the area where the points are located.**\n",
    "\n",
    "- You should use a Polygon specifying the extent where all the points are located to fetch the data with `.graph_from_polygon()` function \n",
    "- see [docs](https://osmnx.readthedocs.io/en/stable/osmnx.html#osmnx.core.graph_from_polygon)."
   ]
  },
  {
   "cell_type": "code",
   "execution_count": null,
   "metadata": {
    "deletable": false,
    "nbgrader": {
     "checksum": "764d68f73fd03141f7b01fd656e86b65",
     "grade": true,
     "grade_id": "retrieve-osm-data",
     "locked": false,
     "points": 2,
     "schema_version": 1,
     "solution": true
    }
   },
   "outputs": [],
   "source": [
    "# REPLACE THE ERROR BELOW WITH YOUR OWN CODE\n",
    "raise NotImplementedError()"
   ]
  },
  {
   "cell_type": "markdown",
   "metadata": {
    "deletable": false,
    "editable": false,
    "nbgrader": {
     "checksum": "585cd803228fedcfe4a1e0799b4c922f",
     "grade": false,
     "grade_id": "cell-9b073bb7932a26ab",
     "locked": true,
     "schema_version": 1,
     "solution": false
    }
   },
   "source": [
    "**3: Reproject the data into UTM projection, and plot:**\n",
    "  - the street network (with `gray` color and line width of `0.5` and alpha set to `0.7`)\n",
    "  - the origin points (with `red` color)\n",
    "  - destination points (with `blue` color)\n",
    "  \n",
    "In the end you should end up having a map that looks something like following:\n",
    "\n",
    "![](img/route_network_with_OD_points.png)"
   ]
  },
  {
   "cell_type": "code",
   "execution_count": null,
   "metadata": {
    "deletable": false,
    "nbgrader": {
     "checksum": "787d52326c5760c3e8ac0436509c3998",
     "grade": true,
     "grade_id": "visualize-graph-and-OD-points",
     "locked": false,
     "points": 4,
     "schema_version": 1,
     "solution": true
    }
   },
   "outputs": [],
   "source": [
    "# REPLACE THE ERROR BELOW WITH YOUR OWN CODE\n",
    "raise NotImplementedError()"
   ]
  },
  {
   "cell_type": "markdown",
   "metadata": {},
   "source": [
    "### Done!\n",
    "\n",
    "That's it! Now you can continue with problem 2. "
   ]
  },
  {
   "cell_type": "markdown",
   "metadata": {
    "deletable": false,
    "editable": false,
    "nbgrader": {
     "checksum": "16ead12582fe5bac580cc94265e78a0a",
     "grade": false,
     "grade_id": "cell-20712c995ba6bbcf",
     "locked": true,
     "schema_version": 1,
     "solution": false
    }
   },
   "source": [
    "## Problem 2 (12 points)\n",
    "\n",
    "In this problem we practice conducting shortest path routing.\n",
    "\n",
    "### Steps\n",
    "\n",
    "**1: Calculate the shortest paths between all origin points (16) and destination points (20) using the `distance` of the road segments as the impedance measure (in total 320 routes).** \n",
    "\n",
    "- To be able to find the shortest paths, you should find the nearest nodes from the graph for both origin and destination points. \n",
    "- Notice: if the closest node is the same for both origin and destination point, you should skip the shortest path calculation. - After the routing, you should add the shortest path routes as LineString geometries into a GeoDataFrame called `routes`. \n",
    "- You should use the projected graph as the network for the analyses"
   ]
  },
  {
   "cell_type": "code",
   "execution_count": null,
   "metadata": {
    "deletable": false,
    "nbgrader": {
     "checksum": "61a3bcc8a3950ff252684f200b094f3f",
     "grade": true,
     "grade_id": "shortest-paths",
     "locked": false,
     "points": 8,
     "schema_version": 1,
     "solution": true
    }
   },
   "outputs": [],
   "source": [
    "# REPLACE THE ERROR BELOW WITH YOUR OWN CODE\n",
    "raise NotImplementedError()"
   ]
  },
  {
   "cell_type": "markdown",
   "metadata": {
    "deletable": false,
    "editable": false,
    "nbgrader": {
     "checksum": "b3bce3c0108e06aa28f345eefaf05533",
     "grade": false,
     "grade_id": "cell-3663d3a6be76155f",
     "locked": true,
     "schema_version": 1,
     "solution": false
    }
   },
   "source": [
    "**2: Calculate the distance of the routes in meters into a column called `route_dist`.**\n",
    " "
   ]
  },
  {
   "cell_type": "code",
   "execution_count": null,
   "metadata": {
    "deletable": false,
    "nbgrader": {
     "checksum": "843e1716edea56b14d555ccc1071ccbb",
     "grade": true,
     "grade_id": "cell-b5041bfdc3128548",
     "locked": false,
     "points": 1,
     "schema_version": 1,
     "solution": true
    }
   },
   "outputs": [],
   "source": [
    "# REPLACE THE ERROR BELOW WITH YOUR OWN CODE\n",
    "raise NotImplementedError()"
   ]
  },
  {
   "cell_type": "markdown",
   "metadata": {
    "deletable": false,
    "editable": false,
    "nbgrader": {
     "checksum": "7345a8bb82125b4011752efa0409c534",
     "grade": false,
     "grade_id": "cell-490f1e8c63b167d4",
     "locked": true,
     "schema_version": 1,
     "solution": false
    }
   },
   "source": [
    "**3: Plot all the routes on top of the street network.** \n",
    "\n",
    "In the end you should have something like following:\n",
    " \n",
    " ![](img/routings.png)"
   ]
  },
  {
   "cell_type": "code",
   "execution_count": null,
   "metadata": {
    "deletable": false,
    "nbgrader": {
     "checksum": "8a2756710f06febffa41d398705ea19d",
     "grade": true,
     "grade_id": "plot-optimal-routes",
     "locked": false,
     "points": 2,
     "schema_version": 1,
     "solution": true
    }
   },
   "outputs": [],
   "source": [
    "# REPLACE THE ERROR BELOW WITH YOUR OWN CODE\n",
    "raise NotImplementedError()"
   ]
  },
  {
   "cell_type": "markdown",
   "metadata": {
    "deletable": false,
    "editable": false,
    "nbgrader": {
     "checksum": "b20a418217a7bd2d0da3bc1672307ea5",
     "grade": false,
     "grade_id": "cell-e6354106b1da73f5",
     "locked": true,
     "schema_version": 1,
     "solution": false
    }
   },
   "source": [
    "**4: Calculate the total distance of all the routes (i.e. sum of all route distances) and print the answer to the screen in kilometers.** "
   ]
  },
  {
   "cell_type": "code",
   "execution_count": null,
   "metadata": {
    "deletable": false,
    "nbgrader": {
     "checksum": "f5066ea30e47448828500f4b1a0a1ff2",
     "grade": true,
     "grade_id": "calculate-total-route-distance",
     "locked": false,
     "points": 1,
     "schema_version": 1,
     "solution": true
    }
   },
   "outputs": [],
   "source": [
    "# REPLACE THE ERROR BELOW WITH YOUR OWN CODE\n",
    "raise NotImplementedError()"
   ]
  },
  {
   "cell_type": "markdown",
   "metadata": {
    "deletable": false,
    "editable": false,
    "nbgrader": {
     "checksum": "ec7d6188bbc01d0cebf191db5ddf253e",
     "grade": false,
     "grade_id": "cell-c041243bd4421c06",
     "locked": true,
     "schema_version": 1,
     "solution": false
    }
   },
   "source": [
    "### Done!\n",
    "\n",
    "That's it! Now you have finished all the practical exercises of the course (except final assignment), congratulations! :)"
   ]
  }
 ],
 "metadata": {
  "anaconda-cloud": {},
  "kernelspec": {
   "display_name": "Python gis",
   "language": "python",
   "name": "gis"
  },
  "language_info": {
   "codemirror_mode": {
    "name": "ipython",
    "version": 3
   },
   "file_extension": ".py",
   "mimetype": "text/x-python",
   "name": "python",
   "nbconvert_exporter": "python",
   "pygments_lexer": "ipython3",
   "version": "3.5.0"
  }
 },
 "nbformat": 4,
 "nbformat_minor": 2
}
